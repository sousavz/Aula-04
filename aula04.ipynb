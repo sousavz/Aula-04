{
 "cells": [
  {
   "cell_type": "markdown",
   "metadata": {},
   "source": [
    "Implementação de uma lista encadeada\n",
    "\n",
    "\n",
    "\n",
    "Nó de nossa lista"
   ]
  },
  {
   "cell_type": "code",
   "execution_count": 3,
   "metadata": {},
   "outputs": [],
   "source": [
    "class Node: \n",
    "    def __init__(self, qtd, preco, descricao):\n",
    "        self.qtd = qtd\n",
    "        self.preco = preco\n",
    "        self.descricao = descricao\n",
    "        self.next = None"
   ]
  },
  {
   "cell_type": "code",
   "execution_count": 18,
   "metadata": {},
   "outputs": [],
   "source": [
    "class LinkedList:\n",
    "    def __init__(self):\n",
    "        self.head = None\n",
    "    \n",
    "    # Inserção de elementos\n",
    "    def inserir_no_inicio(self, qtd, preco, descricao):\n",
    "        new_node = Node(qtd, preco, descricao)\n",
    "        new_node.next = self.head\n",
    "        self.head = new_node\n",
    "\n",
    "    def remover_duplicados(self):\n",
    "        if self.head is None:\n",
    "            return\n",
    "        \n",
    "        elementos_visualizados = set()\n",
    "        no_corente = self.head\n",
    "        last = None \n",
    "\n",
    "        while no_corente:\n",
    "            if(no_corente.qtd, no_corente.preco, no_corente.descricao) in elementos_visualizados:\n",
    "                last.next = no_corente.next\n",
    "                no_corente = no_corente.next\n",
    "            else: \n",
    "             elementos_visualizados.add((no_corente.qtd, no_corente.preco, no_corente.descricao))\n",
    "             last = no_corente \n",
    "             no_corente = no_corente.next\n",
    "\n",
    "    def exibir_lista(self):\n",
    "        no_corrente = self.head\n",
    "        while(no_corrente):\n",
    "            print(f\"Quantidade: {no_corrente.qtd} Preço: {no_corrente.preco} Descrição: {no_corrente.descricao}\")\n",
    "            no_corrente = no_corrente.next\n",
    "\n",
    "   "
   ]
  },
  {
   "cell_type": "code",
   "execution_count": 22,
   "metadata": {},
   "outputs": [
    {
     "name": "stdout",
     "output_type": "stream",
     "text": [
      "Quantidade: 1 Preço: 50.0 Descrição: Arroz\n",
      "Quantidade: 4 Preço: 20.0 Descrição: Café\n",
      "Quantidade: 3 Preço: 6.0 Descrição: Macarrão\n",
      "Quantidade: 2 Preço: 7.0 Descrição: Feijão\n",
      "Quantidade: 1 Preço: 50.0 Descrição: Arroz\n",
      "\n",
      "Quantidade: 1 Preço: 50.0 Descrição: Arroz\n",
      "Quantidade: 4 Preço: 20.0 Descrição: Café\n",
      "Quantidade: 3 Preço: 6.0 Descrição: Macarrão\n",
      "Quantidade: 2 Preço: 7.0 Descrição: Feijão\n"
     ]
    }
   ],
   "source": [
    "# Criar uma lista\n",
    "lista = LinkedList()\n",
    "\n",
    "# Inserir elementos\n",
    "lista.inserir_no_inicio(1, 50.0, \"Arroz\")\n",
    "lista.inserir_no_inicio(2, 7.0, \"Feijão\")\n",
    "lista.inserir_no_inicio(3, 6.0, \"Macarrão\")\n",
    "lista.inserir_no_inicio(4, 20.0, \"Café\")\n",
    "lista.inserir_no_inicio(1, 50.0, \"Arroz\")\n",
    "\n",
    "lista.exibir_lista()\n",
    "\n",
    "print(\"\")\n",
    "\n",
    "lista.remover_duplicados()\n",
    "lista.exibir_lista()\n"
   ]
  }
 ],
 "metadata": {
  "kernelspec": {
   "display_name": "Python 3",
   "language": "python",
   "name": "python3"
  },
  "language_info": {
   "codemirror_mode": {
    "name": "ipython",
    "version": 3
   },
   "file_extension": ".py",
   "mimetype": "text/x-python",
   "name": "python",
   "nbconvert_exporter": "python",
   "pygments_lexer": "ipython3",
   "version": "3.13.2"
  }
 },
 "nbformat": 4,
 "nbformat_minor": 2
}
